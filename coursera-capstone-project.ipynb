{
 "cells": [
  {
   "cell_type": "markdown",
   "metadata": {},
   "source": [
    "##### Now, start a Jupyter Notebook using any platform that you are comfortable with and do the following:\n",
    "\n",
    "1. Write some markdown to explain that this notebook will be mainly used for the capstone project.\n",
    "2. Import the pandas library as pd.\n",
    "3. Import the Numpy library as np.\n",
    "4. Print the following the statement: Hello Capstone Project Course!\n",
    "5. Push the Notebook to your Github repository and submit a link to the notebook on your Github repository.\n",
    "___"
   ]
  },
  {
   "cell_type": "code",
   "execution_count": 3,
   "metadata": {},
   "outputs": [],
   "source": [
    "# 1. Write some markdown to explain that this notebook will be mainly used for the capstone project."
   ]
  },
  {
   "cell_type": "markdown",
   "metadata": {},
   "source": [
    "#### _**NOTE:** This notebook will be mainly used for the capstone project._"
   ]
  },
  {
   "cell_type": "code",
   "execution_count": 1,
   "metadata": {},
   "outputs": [
    {
     "name": "stdout",
     "output_type": "stream",
     "text": [
      "Hello Capstone Project Course!\n"
     ]
    }
   ],
   "source": [
    "# 2. Import the pandas library as pd.\n",
    "import pandas as pd\n",
    "\n",
    "# 3. Import the Numpy library as np.\n",
    "import numpy as np\n",
    "\n",
    "# 4. Print the following the statement: Hello Capstone Project Course!\n",
    "print('Hello Capstone Project Course!')"
   ]
  },
  {
   "cell_type": "code",
   "execution_count": null,
   "metadata": {},
   "outputs": [],
   "source": [
    "# 5. Push the Notebook to your Github repository and submit a link to the notebook on your Github repository."
   ]
  },
  {
   "cell_type": "markdown",
   "metadata": {},
   "source": [
    "**Link to notebook file at github repository (this notebook):** [Click Here](https://github.com/mxj5816/Coursera_Capstone/blob/master/coursera-capstone-project.ipynb)"
   ]
  }
 ],
 "metadata": {
  "kernelspec": {
   "display_name": "Python 3",
   "language": "python",
   "name": "python3"
  },
  "language_info": {
   "codemirror_mode": {
    "name": "ipython",
    "version": 3
   },
   "file_extension": ".py",
   "mimetype": "text/x-python",
   "name": "python",
   "nbconvert_exporter": "python",
   "pygments_lexer": "ipython3",
   "version": "3.6.5"
  }
 },
 "nbformat": 4,
 "nbformat_minor": 2
}
